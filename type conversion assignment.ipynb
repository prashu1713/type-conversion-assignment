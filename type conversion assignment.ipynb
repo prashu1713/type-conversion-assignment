{
 "cells": [
  {
   "cell_type": "markdown",
   "id": "cd60688a-f5b5-4f36-8633-c9736cd5b3e0",
   "metadata": {},
   "source": [
    "Convert an integer to a floatig-point number."
   ]
  },
  {
   "cell_type": "code",
   "execution_count": 1,
   "id": "75743aaf-61ff-4d5a-ae22-4b89089eb4e0",
   "metadata": {},
   "outputs": [
    {
     "data": {
      "text/plain": [
       "int"
      ]
     },
     "execution_count": 1,
     "metadata": {},
     "output_type": "execute_result"
    }
   ],
   "source": [
    "a = 10\n",
    "type(a)"
   ]
  },
  {
   "cell_type": "code",
   "execution_count": 2,
   "id": "25564539-2ada-4905-9ad0-2304c35435a3",
   "metadata": {},
   "outputs": [],
   "source": [
    "b = float(a)"
   ]
  },
  {
   "cell_type": "code",
   "execution_count": 3,
   "id": "c0433c89-34d2-41e1-bfdb-bed049112388",
   "metadata": {},
   "outputs": [
    {
     "data": {
      "text/plain": [
       "10.0"
      ]
     },
     "execution_count": 3,
     "metadata": {},
     "output_type": "execute_result"
    }
   ],
   "source": [
    "b"
   ]
  },
  {
   "cell_type": "markdown",
   "id": "47018db2-2640-46d4-9753-dc46e2ac55ad",
   "metadata": {},
   "source": [
    "Convert a float to an integer."
   ]
  },
  {
   "cell_type": "code",
   "execution_count": 4,
   "id": "8265fdb6-8e10-4ada-8697-d5ed1677524d",
   "metadata": {},
   "outputs": [
    {
     "data": {
      "text/plain": [
       "float"
      ]
     },
     "execution_count": 4,
     "metadata": {},
     "output_type": "execute_result"
    }
   ],
   "source": [
    "a = 10.5\n",
    "type(a)"
   ]
  },
  {
   "cell_type": "code",
   "execution_count": 5,
   "id": "f69bdb43-7222-41e8-8610-4666b494f769",
   "metadata": {},
   "outputs": [],
   "source": [
    "b = int(a)"
   ]
  },
  {
   "cell_type": "code",
   "execution_count": 6,
   "id": "e1244baf-4ec0-47f7-872b-e4277b780575",
   "metadata": {},
   "outputs": [
    {
     "data": {
      "text/plain": [
       "10"
      ]
     },
     "execution_count": 6,
     "metadata": {},
     "output_type": "execute_result"
    }
   ],
   "source": [
    "b"
   ]
  },
  {
   "cell_type": "markdown",
   "id": "c510d263-d045-4eca-93f2-63dd31e60dbd",
   "metadata": {},
   "source": [
    "Convert an integer to a string."
   ]
  },
  {
   "cell_type": "code",
   "execution_count": 8,
   "id": "9751a3ba-5b45-4733-8438-a45aa3617b0f",
   "metadata": {},
   "outputs": [
    {
     "data": {
      "text/plain": [
       "int"
      ]
     },
     "execution_count": 8,
     "metadata": {},
     "output_type": "execute_result"
    }
   ],
   "source": [
    "z = 10\n",
    "type(z)"
   ]
  },
  {
   "cell_type": "code",
   "execution_count": 9,
   "id": "9827c368-1796-4938-a359-850f6218b080",
   "metadata": {},
   "outputs": [],
   "source": [
    "x = str(z)"
   ]
  },
  {
   "cell_type": "code",
   "execution_count": 10,
   "id": "3700e4cf-b479-44bb-a8a5-9680c66b0ac8",
   "metadata": {},
   "outputs": [
    {
     "data": {
      "text/plain": [
       "'10'"
      ]
     },
     "execution_count": 10,
     "metadata": {},
     "output_type": "execute_result"
    }
   ],
   "source": [
    "x"
   ]
  },
  {
   "cell_type": "code",
   "execution_count": 11,
   "id": "c07dfb8a-dd5d-4b15-977a-9bbf88fdd301",
   "metadata": {},
   "outputs": [
    {
     "data": {
      "text/plain": [
       "str"
      ]
     },
     "execution_count": 11,
     "metadata": {},
     "output_type": "execute_result"
    }
   ],
   "source": [
    "type(x)"
   ]
  },
  {
   "cell_type": "markdown",
   "id": "d252a538-1c89-41af-a9cc-e59dd8f087a4",
   "metadata": {},
   "source": [
    "Convert a list to a tuple."
   ]
  },
  {
   "cell_type": "code",
   "execution_count": 12,
   "id": "2d750325-44e8-448e-9e7f-8a0c518db2ef",
   "metadata": {},
   "outputs": [
    {
     "data": {
      "text/plain": [
       "list"
      ]
     },
     "execution_count": 12,
     "metadata": {},
     "output_type": "execute_result"
    }
   ],
   "source": [
    "prashu = [1, 2, 3, 4, 'ram', 6+5j]\n",
    "type(prashu)"
   ]
  },
  {
   "cell_type": "code",
   "execution_count": 13,
   "id": "8b2e7ea4-a63b-4138-a276-5c255c65f143",
   "metadata": {},
   "outputs": [],
   "source": [
    "lis = tuple(prashu)"
   ]
  },
  {
   "cell_type": "code",
   "execution_count": 14,
   "id": "5fb3dd63-dcfa-4d13-a8eb-9eb8080a6e02",
   "metadata": {},
   "outputs": [
    {
     "data": {
      "text/plain": [
       "(1, 2, 3, 4, 'ram', (6+5j))"
      ]
     },
     "execution_count": 14,
     "metadata": {},
     "output_type": "execute_result"
    }
   ],
   "source": [
    "lis"
   ]
  },
  {
   "cell_type": "code",
   "execution_count": 15,
   "id": "4f3ee882-db6e-46fb-b317-ed4d8d90f3ad",
   "metadata": {},
   "outputs": [
    {
     "data": {
      "text/plain": [
       "tuple"
      ]
     },
     "execution_count": 15,
     "metadata": {},
     "output_type": "execute_result"
    }
   ],
   "source": [
    "type(lis)"
   ]
  },
  {
   "cell_type": "markdown",
   "id": "7759c446-6bae-453e-880c-a60d7bac3119",
   "metadata": {},
   "source": [
    "Convert a tuple to a list."
   ]
  },
  {
   "cell_type": "code",
   "execution_count": 17,
   "id": "a0c5fdf5-090b-486a-a53c-c882d11b9f5d",
   "metadata": {},
   "outputs": [
    {
     "data": {
      "text/plain": [
       "tuple"
      ]
     },
     "execution_count": 17,
     "metadata": {},
     "output_type": "execute_result"
    }
   ],
   "source": [
    "ram = (1, 2, 3, 'ranu')\n",
    "type(ram)"
   ]
  },
  {
   "cell_type": "code",
   "execution_count": 18,
   "id": "71c9fc41-539f-4ded-bed8-69ad3fcec1f9",
   "metadata": {},
   "outputs": [],
   "source": [
    "lis = list(ram)"
   ]
  },
  {
   "cell_type": "code",
   "execution_count": 19,
   "id": "ba3e7a9e-8d09-422f-9d29-67175aa1ba76",
   "metadata": {},
   "outputs": [
    {
     "data": {
      "text/plain": [
       "[1, 2, 3, 'ranu']"
      ]
     },
     "execution_count": 19,
     "metadata": {},
     "output_type": "execute_result"
    }
   ],
   "source": [
    "lis"
   ]
  },
  {
   "cell_type": "code",
   "execution_count": 20,
   "id": "929b2824-7540-4fc2-9772-bf6f475caa97",
   "metadata": {},
   "outputs": [
    {
     "data": {
      "text/plain": [
       "list"
      ]
     },
     "execution_count": 20,
     "metadata": {},
     "output_type": "execute_result"
    }
   ],
   "source": [
    "type(lis)"
   ]
  },
  {
   "cell_type": "markdown",
   "id": "22a56f7f-ec14-4656-b750-54d0eae34910",
   "metadata": {},
   "source": [
    "Convert a decimal number to binary."
   ]
  },
  {
   "cell_type": "code",
   "execution_count": 21,
   "id": "7a991039-2340-457d-99ef-f4e5fd61b96d",
   "metadata": {},
   "outputs": [],
   "source": [
    "v = 15"
   ]
  },
  {
   "cell_type": "code",
   "execution_count": 22,
   "id": "f3d26a69-1409-4245-84f6-d67f405c391a",
   "metadata": {},
   "outputs": [
    {
     "data": {
      "text/plain": [
       "'0b1111'"
      ]
     },
     "execution_count": 22,
     "metadata": {},
     "output_type": "execute_result"
    }
   ],
   "source": [
    "bin(v)"
   ]
  },
  {
   "cell_type": "code",
   "execution_count": 23,
   "id": "c3a4e2cb-5028-47a4-bfc5-161d28ef5dc1",
   "metadata": {},
   "outputs": [],
   "source": [
    "a = 25"
   ]
  },
  {
   "cell_type": "code",
   "execution_count": 24,
   "id": "258b523f-74c1-4cfe-bf0c-71926aea2477",
   "metadata": {},
   "outputs": [
    {
     "data": {
      "text/plain": [
       "'0b11001'"
      ]
     },
     "execution_count": 24,
     "metadata": {},
     "output_type": "execute_result"
    }
   ],
   "source": [
    "bin(a)"
   ]
  },
  {
   "cell_type": "markdown",
   "id": "01162eb7-974f-43a1-8afd-dcacebdd819f",
   "metadata": {},
   "source": [
    "Convert a non-zero number to boolean."
   ]
  },
  {
   "cell_type": "code",
   "execution_count": 25,
   "id": "70ada722-204e-42ba-a54f-2f75a596e5f6",
   "metadata": {},
   "outputs": [],
   "source": [
    "a = 5"
   ]
  },
  {
   "cell_type": "code",
   "execution_count": 26,
   "id": "06905b2b-ee73-4973-a385-67ff06413e2e",
   "metadata": {},
   "outputs": [
    {
     "data": {
      "text/plain": [
       "True"
      ]
     },
     "execution_count": 26,
     "metadata": {},
     "output_type": "execute_result"
    }
   ],
   "source": [
    "a = bool(1)\n",
    "a"
   ]
  },
  {
   "cell_type": "code",
   "execution_count": 27,
   "id": "4d781d15-c432-4ead-a13d-8d7e2ce8d7e5",
   "metadata": {},
   "outputs": [
    {
     "data": {
      "text/plain": [
       "bool"
      ]
     },
     "execution_count": 27,
     "metadata": {},
     "output_type": "execute_result"
    }
   ],
   "source": [
    "type(a)"
   ]
  },
  {
   "cell_type": "code",
   "execution_count": 28,
   "id": "e6f61ba5-9c74-4404-a03f-00f9ab8e676e",
   "metadata": {},
   "outputs": [],
   "source": [
    "b = 150\n"
   ]
  },
  {
   "cell_type": "code",
   "execution_count": 29,
   "id": "0efa55fc-4db2-4377-940f-a272eea04d44",
   "metadata": {},
   "outputs": [
    {
     "data": {
      "text/plain": [
       "False"
      ]
     },
     "execution_count": 29,
     "metadata": {},
     "output_type": "execute_result"
    }
   ],
   "source": [
    "b = bool(0)\n",
    "b"
   ]
  },
  {
   "cell_type": "code",
   "execution_count": 30,
   "id": "0df37d00-d6a9-4b09-8359-fa4a51e4eec3",
   "metadata": {},
   "outputs": [
    {
     "data": {
      "text/plain": [
       "bool"
      ]
     },
     "execution_count": 30,
     "metadata": {},
     "output_type": "execute_result"
    }
   ],
   "source": [
    "type(b)"
   ]
  },
  {
   "cell_type": "code",
   "execution_count": null,
   "id": "885e7c02-0a1e-452c-98c9-1ecfdfbb89bb",
   "metadata": {},
   "outputs": [],
   "source": []
  }
 ],
 "metadata": {
  "kernelspec": {
   "display_name": "Python 3 (ipykernel)",
   "language": "python",
   "name": "python3"
  },
  "language_info": {
   "codemirror_mode": {
    "name": "ipython",
    "version": 3
   },
   "file_extension": ".py",
   "mimetype": "text/x-python",
   "name": "python",
   "nbconvert_exporter": "python",
   "pygments_lexer": "ipython3",
   "version": "3.10.8"
  }
 },
 "nbformat": 4,
 "nbformat_minor": 5
}
